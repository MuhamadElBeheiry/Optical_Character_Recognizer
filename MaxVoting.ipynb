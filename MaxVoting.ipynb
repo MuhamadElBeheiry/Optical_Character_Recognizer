{
  "nbformat": 4,
  "nbformat_minor": 0,
  "metadata": {
    "colab": {
      "name": "Max Voting.ipynb",
      "provenance": [],
      "collapsed_sections": [],
      "authorship_tag": "ABX9TyOeqZl4AKguBNo3ThOJ8wEw",
      "include_colab_link": true
    },
    "kernelspec": {
      "name": "python3",
      "display_name": "Python 3"
    }
  },
  "cells": [
    {
      "cell_type": "markdown",
      "metadata": {
        "id": "view-in-github",
        "colab_type": "text"
      },
      "source": [
        "<a href=\"https://colab.research.google.com/github/mohamedahmedsaadahmed77/Research-Project-Selected-2/blob/master/MaxVoting.ipynb\" target=\"_parent\"><img src=\"https://colab.research.google.com/assets/colab-badge.svg\" alt=\"Open In Colab\"/></a>"
      ]
    },
    {
      "cell_type": "code",
      "metadata": {
        "id": "poCEseZMcXaA",
        "colab_type": "code",
        "colab": {}
      },
      "source": [
        "!git clone https://github.com/mohamedahmedsaadahmed77/OCR-Selected-2.git"
      ],
      "execution_count": 0,
      "outputs": []
    },
    {
      "cell_type": "code",
      "metadata": {
        "id": "psgK7qMLcfa4",
        "colab_type": "code",
        "colab": {}
      },
      "source": [
        "import numpy as np\n",
        "import pandas as pd\n",
        "import os\n",
        "from imutils import paths\n",
        "import cv2\n",
        "\n",
        "def load_images(path):\n",
        "  print(\"[INFO] loading images...\")\n",
        "  imagePaths = list(paths.list_images(path))\n",
        "  imagePaths.sort()\n",
        "  data = []\n",
        "  labels = []\n",
        "  for imagePath in imagePaths:\n",
        "    label = int(imagePath.split(os.path.sep)[-2])\n",
        "    image = cv2.imread(imagePath, 0)\n",
        "    image = np.reshape(image, (28*28))/255.0\n",
        "    data.append(image)\n",
        "    labels.append(label)\n",
        "  data = np.array(data)\n",
        "  labels = np.array(labels)\n",
        "  print(\"[INFO] done\")\n",
        "  return data,labels"
      ],
      "execution_count": 0,
      "outputs": []
    },
    {
      "cell_type": "code",
      "metadata": {
        "id": "La-RrMIIcfZS",
        "colab_type": "code",
        "colab": {}
      },
      "source": [
        "x_train, y_train = load_images('/content/OCR-Selected-2/Dataset/Training')\n",
        "x_test, y_test = load_images('/content/OCR-Selected-2/Dataset/Test')"
      ],
      "execution_count": 0,
      "outputs": []
    },
    {
      "cell_type": "code",
      "metadata": {
        "id": "z13u6flce4hk",
        "colab_type": "code",
        "colab": {}
      },
      "source": [
        "from sklearn.linear_model import LogisticRegression\n",
        "\n",
        "LR_clf = LogisticRegression()\n",
        "\n",
        "LR_clf.fit(x_train, y_train)\n",
        "\n",
        "LR_prediction = LR_clf.predict(x_test)"
      ],
      "execution_count": 0,
      "outputs": []
    },
    {
      "cell_type": "code",
      "metadata": {
        "id": "4zKAq1wVrtkf",
        "colab_type": "code",
        "colab": {}
      },
      "source": [
        "from sklearn.ensemble import RandomForestClassifier\n",
        "\n",
        "RF_clf = RandomForestClassifier(n_estimators=50, random_state=1)\n",
        "\n",
        "RF_clf.fit(x_train, y_train)\n",
        "\n",
        "RF_prediction = RF_clf.predict(x_test)"
      ],
      "execution_count": 0,
      "outputs": []
    },
    {
      "cell_type": "code",
      "metadata": {
        "id": "PRUrbyU-taS4",
        "colab_type": "code",
        "colab": {}
      },
      "source": [
        "from sklearn.naive_bayes import GaussianNB\n",
        "\n",
        "NB_clf = GaussianNB()\n",
        "\n",
        "NB_clf.fit(x_train, y_train)\n",
        "\n",
        "NB_prediction = NB_clf.predict(x_test)"
      ],
      "execution_count": 0,
      "outputs": []
    },
    {
      "cell_type": "code",
      "metadata": {
        "id": "ZiP37vy9inJ3",
        "colab_type": "code",
        "colab": {}
      },
      "source": [
        "from sklearn.ensemble import VotingClassifier\n",
        "\n",
        "MaxVoting_clf = VotingClassifier(estimators=[('LR', LR_clf), ('RF', RF_clf), ('NB', NB_clf)])\n",
        "\n",
        "MaxVoting_clf.fit(x_train, y_train)\n",
        "\n",
        "MaxVoting_prediction=MaxVoting_clf.predict(x_test)"
      ],
      "execution_count": 0,
      "outputs": []
    },
    {
      "cell_type": "code",
      "metadata": {
        "id": "SJQvMwuPt_Q8",
        "colab_type": "code",
        "colab": {}
      },
      "source": [
        "from sklearn.metrics import accuracy_score\n",
        "\n",
        "print(f'LogisticRegression accuracy score : {accuracy_score(y_test, LR_prediction)*100}%')\n",
        "print(f'RandomForest accuracy score : {accuracy_score(y_test, RF_prediction)*100}%')\n",
        "print(f'NaiveBayes accuracy score : {accuracy_score(y_test, NB_prediction)*100}%')\n",
        "print('\\n\\nAfter Appling MaxVoting as ensemble learning technique\\n\\n')\n",
        "print(f'MaxVoting accuracy score : {accuracy_score(y_test, MaxVoting_prediction)*100}%')"
      ],
      "execution_count": 0,
      "outputs": []
    }
  ]
}