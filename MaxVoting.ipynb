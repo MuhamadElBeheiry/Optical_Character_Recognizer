{
  "nbformat": 4,
  "nbformat_minor": 0,
  "metadata": {
    "colab": {
      "name": "MaxVoting.ipynb",
      "provenance": [],
      "collapsed_sections": [],
      "authorship_tag": "ABX9TyO7wzUGPW7zJS6FFWE9Ax6d",
      "include_colab_link": true
    },
    "kernelspec": {
      "name": "python3",
      "display_name": "Python 3"
    }
  },
  "cells": [
    {
      "cell_type": "markdown",
      "metadata": {
        "id": "view-in-github",
        "colab_type": "text"
      },
      "source": [
        "<a href=\"https://colab.research.google.com/github/mohamedahmedsaadahmed77/Research-Project-Selected-2/blob/master/MaxVoting.ipynb\" target=\"_parent\"><img src=\"https://colab.research.google.com/assets/colab-badge.svg\" alt=\"Open In Colab\"/></a>"
      ]
    },
    {
      "cell_type": "code",
      "metadata": {
        "id": "poCEseZMcXaA",
        "colab_type": "code",
        "outputId": "35869e02-8619-41a6-c6b7-ef6060643b6a",
        "colab": {
          "base_uri": "https://localhost:8080/",
          "height": 153
        }
      },
      "source": [
        "!git clone https://github.com/mohamedahmedsaadahmed77/OCR-Selected-2.git"
      ],
      "execution_count": 0,
      "outputs": [
        {
          "output_type": "stream",
          "text": [
            "Cloning into 'OCR-Selected-2'...\n",
            "remote: Enumerating objects: 11, done.\u001b[K\n",
            "remote: Counting objects: 100% (11/11), done.\u001b[K\n",
            "remote: Compressing objects: 100% (11/11), done.\u001b[K\n",
            "remote: Total 183726 (delta 0), reused 9 (delta 0), pack-reused 183715\u001b[K\n",
            "Receiving objects: 100% (183726/183726), 64.07 MiB | 11.05 MiB/s, done.\n",
            "Resolving deltas: 100% (142652/142652), done.\n",
            "Checking out files: 100% (107101/107101), done.\n"
          ],
          "name": "stdout"
        }
      ]
    },
    {
      "cell_type": "code",
      "metadata": {
        "id": "psgK7qMLcfa4",
        "colab_type": "code",
        "colab": {}
      },
      "source": [
        "import numpy as np\n",
        "import os\n",
        "from imutils import paths\n",
        "import cv2\n",
        "import pandas as pd\n",
        "\n",
        "def load_images(path):\n",
        "  print(\"[INFO] loading images...\")\n",
        "  imagePaths = list(paths.list_images(path))\n",
        "  imagePaths.sort()\n",
        "  data = []\n",
        "  labels = []\n",
        "  for imagePath in imagePaths:\n",
        "    label = imagePath.split(os.path.sep)[-2]\n",
        "    image = cv2.imread(imagePath)\n",
        "    image = cv2.cvtColor(image, cv2.COLOR_BGR2GRAY)\n",
        "    image = np.reshape(image, (28*28))/255.0\n",
        "    data.append(image)\n",
        "    labels.append(label)\n",
        "  data = np.array(data)\n",
        "  labels = np.array(labels)\n",
        "  print(\"[INFO] done\")\n",
        "  return data,labels"
      ],
      "execution_count": 0,
      "outputs": []
    },
    {
      "cell_type": "code",
      "metadata": {
        "id": "La-RrMIIcfZS",
        "colab_type": "code",
        "outputId": "219978eb-ae02-49a9-9c04-3b22958acbd0",
        "colab": {
          "base_uri": "https://localhost:8080/",
          "height": 85
        }
      },
      "source": [
        "x_train, y_train = load_images('/content/OCR-Selected-2/Dataset/Training')\n",
        "x_test, y_test = load_images('/content/OCR-Selected-2/Dataset/Test')"
      ],
      "execution_count": 0,
      "outputs": [
        {
          "output_type": "stream",
          "text": [
            "[INFO] loading images...\n",
            "[INFO] done\n",
            "[INFO] loading images...\n",
            "[INFO] done\n"
          ],
          "name": "stdout"
        }
      ]
    },
    {
      "cell_type": "code",
      "metadata": {
        "id": "z13u6flce4hk",
        "colab_type": "code",
        "outputId": "87409e01-4478-41ae-84ab-f100213fe468",
        "colab": {
          "base_uri": "https://localhost:8080/",
          "height": 153
        }
      },
      "source": [
        "from sklearn.linear_model import LogisticRegression\n",
        "\n",
        "LR_clf = LogisticRegression()\n",
        "\n",
        "LR_clf.fit(x_train, y_train)\n",
        "\n",
        "LR_prediction = LR_clf.predict(x_test)"
      ],
      "execution_count": 0,
      "outputs": [
        {
          "output_type": "stream",
          "text": [
            "/usr/local/lib/python3.6/dist-packages/sklearn/linear_model/_logistic.py:940: ConvergenceWarning: lbfgs failed to converge (status=1):\n",
            "STOP: TOTAL NO. of ITERATIONS REACHED LIMIT.\n",
            "\n",
            "Increase the number of iterations (max_iter) or scale the data as shown in:\n",
            "    https://scikit-learn.org/stable/modules/preprocessing.html\n",
            "Please also refer to the documentation for alternative solver options:\n",
            "    https://scikit-learn.org/stable/modules/linear_model.html#logistic-regression\n",
            "  extra_warning_msg=_LOGISTIC_SOLVER_CONVERGENCE_MSG)\n"
          ],
          "name": "stderr"
        }
      ]
    },
    {
      "cell_type": "code",
      "metadata": {
        "id": "HZSDwpuLjKc8",
        "colab_type": "code",
        "colab": {}
      },
      "source": [
        "from sklearn.tree import DecisionTreeClassifier\n",
        "\n",
        "DT_clf = DecisionTreeClassifier()\n",
        "\n",
        "DT_clf.fit(x_train, y_train)\n",
        "\n",
        "DT_prediction = DT_clf.predict(x_test)"
      ],
      "execution_count": 0,
      "outputs": []
    },
    {
      "cell_type": "code",
      "metadata": {
        "id": "4zKAq1wVrtkf",
        "colab_type": "code",
        "colab": {}
      },
      "source": [
        "from sklearn.ensemble import RandomForestClassifier\n",
        "\n",
        "RF_clf = RandomForestClassifier(n_estimators=50, random_state=1)\n",
        "\n",
        "RF_clf.fit(x_train, y_train)\n",
        "\n",
        "RF_prediction = RF_clf.predict(x_test)"
      ],
      "execution_count": 0,
      "outputs": []
    },
    {
      "cell_type": "code",
      "metadata": {
        "id": "ZiP37vy9inJ3",
        "colab_type": "code",
        "outputId": "4da64b12-f1ff-46da-84eb-dcff8cf8e33b",
        "colab": {
          "base_uri": "https://localhost:8080/",
          "height": 153
        }
      },
      "source": [
        "from sklearn.ensemble import VotingClassifier\n",
        "\n",
        "MaxVoting_clf = VotingClassifier(estimators=[('LR', LR_clf), ('RF', RF_clf), ('DT', DT_clf)], voting='hard')\n",
        "\n",
        "MaxVoting_clf.fit(x_train, y_train)\n",
        "\n",
        "MaxVoting_prediction=MaxVoting_clf.predict(x_test)"
      ],
      "execution_count": 0,
      "outputs": [
        {
          "output_type": "stream",
          "text": [
            "/usr/local/lib/python3.6/dist-packages/sklearn/linear_model/_logistic.py:940: ConvergenceWarning: lbfgs failed to converge (status=1):\n",
            "STOP: TOTAL NO. of ITERATIONS REACHED LIMIT.\n",
            "\n",
            "Increase the number of iterations (max_iter) or scale the data as shown in:\n",
            "    https://scikit-learn.org/stable/modules/preprocessing.html\n",
            "Please also refer to the documentation for alternative solver options:\n",
            "    https://scikit-learn.org/stable/modules/linear_model.html#logistic-regression\n",
            "  extra_warning_msg=_LOGISTIC_SOLVER_CONVERGENCE_MSG)\n"
          ],
          "name": "stderr"
        }
      ]
    },
    {
      "cell_type": "code",
      "metadata": {
        "id": "lO1bIQ5JlIq2",
        "colab_type": "code",
        "outputId": "6b9f96cc-0a3d-43dc-beb8-a3b55985aa42",
        "colab": {
          "base_uri": "https://localhost:8080/",
          "height": 136
        }
      },
      "source": [
        "from sklearn.metrics import accuracy_score\n",
        "\n",
        "print(f'LogisticRegression accuracy score : {accuracy_score(y_test, LR_prediction)*100}%')\n",
        "print(f'RandomForest accuracy score : {accuracy_score(y_test, RF_prediction)*100}%')\n",
        "print(f'DecisionTree accuracy score : {accuracy_score(y_test, DT_prediction)*100}%')\n",
        "print('\\n\\nAfter Appling MaxVoting as ensemble learning technique')\n",
        "print(f'MaxVoting accuracy score : {accuracy_score(y_test, MaxVoting_prediction)*100}%')"
      ],
      "execution_count": 0,
      "outputs": [
        {
          "output_type": "stream",
          "text": [
            "LogisticRegression accuracy score : 72.10776545166404%\n",
            "RandomForest accuracy score : 87.03754303513853%\n",
            "DecisionTree accuracy score : 69.95464233018198%\n",
            "\n",
            "\n",
            "After Appling MaxVoting as ensemble learning technique\n",
            "\tMaxVoting accuracy score : 83.85157658888464%\n"
          ],
          "name": "stdout"
        }
      ]
    }
  ]
}