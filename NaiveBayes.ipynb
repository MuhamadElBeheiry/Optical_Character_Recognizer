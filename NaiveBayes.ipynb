{
  "nbformat": 4,
  "nbformat_minor": 0,
  "metadata": {
    "colab": {
      "name": "NaiveBayes .ipynb",
      "provenance": [],
      "collapsed_sections": [],
      "authorship_tag": "ABX9TyMp1ScZKU2R+2via/33hghE",
      "include_colab_link": true
    },
    "kernelspec": {
      "name": "python3",
      "display_name": "Python 3"
    }
  },
  "cells": [
    {
      "cell_type": "markdown",
      "metadata": {
        "id": "view-in-github",
        "colab_type": "text"
      },
      "source": [
        "<a href=\"https://colab.research.google.com/github/mohamedahmedsaadahmed77/Research-Project-Selected-2/blob/master/NaiveBayes.ipynb\" target=\"_parent\"><img src=\"https://colab.research.google.com/assets/colab-badge.svg\" alt=\"Open In Colab\"/></a>"
      ]
    },
    {
      "cell_type": "code",
      "metadata": {
        "id": "poCEseZMcXaA",
        "colab_type": "code",
        "colab": {
          "base_uri": "https://localhost:8080/",
          "height": 153
        },
        "outputId": "d3b6ddd1-5037-418f-d7de-026dca08f5c0"
      },
      "source": [
        "!git clone https://github.com/mohamedahmedsaadahmed77/OCR-Selected-2.git"
      ],
      "execution_count": 1,
      "outputs": [
        {
          "output_type": "stream",
          "text": [
            "Cloning into 'OCR-Selected-2'...\n",
            "remote: Enumerating objects: 11, done.\u001b[K\n",
            "remote: Counting objects: 100% (11/11), done.\u001b[K\n",
            "remote: Compressing objects: 100% (11/11), done.\u001b[K\n",
            "remote: Total 183726 (delta 0), reused 9 (delta 0), pack-reused 183715\u001b[K\n",
            "Receiving objects: 100% (183726/183726), 64.07 MiB | 10.46 MiB/s, done.\n",
            "Resolving deltas: 100% (142652/142652), done.\n",
            "Checking out files: 100% (107101/107101), done.\n"
          ],
          "name": "stdout"
        }
      ]
    },
    {
      "cell_type": "code",
      "metadata": {
        "id": "Rx4OZhjCQamd",
        "colab_type": "code",
        "colab": {}
      },
      "source": [
        "import numpy as np\n",
        "import os\n",
        "from imutils import paths\n",
        "import cv2\n",
        "import pandas as pd\n",
        "\n",
        "def load_images(path):\n",
        "  print(\"[INFO] loading images...\")\n",
        "  imagePaths = list(paths.list_images(path))\n",
        "  imagePaths.sort()\n",
        "  data = []\n",
        "  labels = []\n",
        "  for imagePath in imagePaths:\n",
        "    label = imagePath.split(os.path.sep)[-2]\n",
        "    image = cv2.imread(imagePath)\n",
        "    image = cv2.cvtColor(image, cv2.COLOR_BGR2GRAY)\n",
        "    image = np.reshape(image, (28*28))/255.0\n",
        "    data.append(image)\n",
        "    labels.append(label)\n",
        "  data = np.array(data)\n",
        "  labels = np.array(labels)\n",
        "  print(\"[INFO] done\")\n",
        "  return data,labels"
      ],
      "execution_count": 0,
      "outputs": []
    },
    {
      "cell_type": "code",
      "metadata": {
        "id": "CZDZv0I_h9h0",
        "colab_type": "code",
        "colab": {
          "base_uri": "https://localhost:8080/",
          "height": 85
        },
        "outputId": "7199096a-1697-4dbf-85f1-1a8b135ca822"
      },
      "source": [
        "x_train, y_train = load_images('/content/OCR-Selected-2/Dataset/Training')\n",
        "x_test, y_test = load_images('/content/OCR-Selected-2/Dataset/Test')"
      ],
      "execution_count": 3,
      "outputs": [
        {
          "output_type": "stream",
          "text": [
            "[INFO] loading images...\n",
            "[INFO] done\n",
            "[INFO] loading images...\n",
            "[INFO] done\n"
          ],
          "name": "stdout"
        }
      ]
    },
    {
      "cell_type": "code",
      "metadata": {
        "id": "UvTCqA1sBpPy",
        "colab_type": "code",
        "colab": {
          "base_uri": "https://localhost:8080/",
          "height": 51
        },
        "outputId": "98178d89-bef3-4427-fe2f-d34c04df211f"
      },
      "source": [
        "from sklearn.decomposition import PCA\n",
        "\n",
        "pca = PCA(.9)\n",
        "pca.fit(x_train)"
      ],
      "execution_count": 4,
      "outputs": [
        {
          "output_type": "execute_result",
          "data": {
            "text/plain": [
              "PCA(copy=True, iterated_power='auto', n_components=0.9, random_state=None,\n",
              "    svd_solver='auto', tol=0.0, whiten=False)"
            ]
          },
          "metadata": {
            "tags": []
          },
          "execution_count": 4
        }
      ]
    },
    {
      "cell_type": "code",
      "metadata": {
        "id": "0T2Mv_CYBpuu",
        "colab_type": "code",
        "colab": {
          "base_uri": "https://localhost:8080/",
          "height": 51
        },
        "outputId": "12ede00d-4dca-4ed4-d3a4-48973987b610"
      },
      "source": [
        "x_train = pca.transform(x_train)\n",
        "x_test = pca.transform(x_test)\n",
        "\n",
        "print(x_train.shape)\n",
        "print(x_test.shape)"
      ],
      "execution_count": 5,
      "outputs": [
        {
          "output_type": "stream",
          "text": [
            "(88799, 69)\n",
            "(18299, 69)\n"
          ],
          "name": "stdout"
        }
      ]
    },
    {
      "cell_type": "code",
      "metadata": {
        "id": "PRUrbyU-taS4",
        "colab_type": "code",
        "colab": {
          "base_uri": "https://localhost:8080/",
          "height": 34
        },
        "outputId": "9172e185-e90e-4a94-b3fc-9ba83cb7bf68"
      },
      "source": [
        "from sklearn.naive_bayes import GaussianNB\n",
        "from sklearn.metrics import accuracy_score\n",
        "\n",
        "NB_clf = GaussianNB()\n",
        "\n",
        "NB_clf.fit(x_train, y_train)\n",
        "\n",
        "NB_prediction = NB_clf.predict(x_test)\n",
        "\n",
        "print(f'NaiveBayes accuracy score : {accuracy_score(y_test, NB_prediction)*100}%')\n"
      ],
      "execution_count": 6,
      "outputs": [
        {
          "output_type": "stream",
          "text": [
            "NaiveBayes accuracy score : 65.38608667140281%\n"
          ],
          "name": "stdout"
        }
      ]
    },
    {
      "cell_type": "code",
      "metadata": {
        "id": "_OSToUMHl3gE",
        "colab_type": "code",
        "colab": {}
      },
      "source": [
        ""
      ],
      "execution_count": 0,
      "outputs": []
    }
  ]
}