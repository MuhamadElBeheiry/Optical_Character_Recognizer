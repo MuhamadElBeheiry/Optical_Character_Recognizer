{
  "nbformat": 4,
  "nbformat_minor": 0,
  "metadata": {
    "colab": {
      "name": "CNN.ipynb",
      "provenance": [],
      "collapsed_sections": [],
      "authorship_tag": "ABX9TyMEElornokqMMjYRlOvF18k",
      "include_colab_link": true
    },
    "kernelspec": {
      "name": "python3",
      "display_name": "Python 3"
    },
    "accelerator": "GPU"
  },
  "cells": [
    {
      "cell_type": "markdown",
      "metadata": {
        "id": "view-in-github",
        "colab_type": "text"
      },
      "source": [
        "<a href=\"https://colab.research.google.com/github/mohamedahmedsaadahmed77/Research-Project-Selected-2/blob/master/CNN.ipynb\" target=\"_parent\"><img src=\"https://colab.research.google.com/assets/colab-badge.svg\" alt=\"Open In Colab\"/></a>"
      ]
    },
    {
      "cell_type": "code",
      "metadata": {
        "id": "xA8krdGnzLJ6",
        "colab_type": "code",
        "outputId": "f750d24d-3be2-4e11-cf1d-d75cf7e5e69f",
        "colab": {
          "base_uri": "https://localhost:8080/",
          "height": 153
        }
      },
      "source": [
        "!git clone https://github.com/mohamedahmedsaadahmed77/OCR-Selected-2.git"
      ],
      "execution_count": 0,
      "outputs": [
        {
          "output_type": "stream",
          "text": [
            "Cloning into 'OCR-Selected-2'...\n",
            "remote: Enumerating objects: 11, done.\u001b[K\n",
            "remote: Counting objects: 100% (11/11), done.\u001b[K\n",
            "remote: Compressing objects: 100% (11/11), done.\u001b[K\n",
            "remote: Total 183726 (delta 0), reused 9 (delta 0), pack-reused 183715\u001b[K\n",
            "Receiving objects: 100% (183726/183726), 64.07 MiB | 19.27 MiB/s, done.\n",
            "Resolving deltas: 100% (142652/142652), done.\n",
            "Checking out files: 100% (107101/107101), done.\n"
          ],
          "name": "stdout"
        }
      ]
    },
    {
      "cell_type": "code",
      "metadata": {
        "id": "E7h21Wv2Ye7t",
        "colab_type": "code",
        "colab": {}
      },
      "source": [
        "import numpy as np\n",
        "import os\n",
        "from imutils import paths\n",
        "import cv2\n",
        "import pandas as pd\n",
        "\n",
        "def load_images(path):\n",
        "  print(\"[INFO] loading images...\")\n",
        "  imagePaths = list(paths.list_images(path))\n",
        "  imagePaths.sort()\n",
        "  data = []\n",
        "  labels = []\n",
        "  for imagePath in imagePaths:\n",
        "    label = imagePath.split(os.path.sep)[-2]\n",
        "    image = cv2.imread(imagePath)\n",
        "    image = cv2.cvtColor(image, cv2.COLOR_BGR2GRAY)\n",
        "    image = np.reshape(image, (28, 28, 1))/255.0\n",
        "    data.append(image)\n",
        "    labels.append(label)\n",
        "  data = np.array(data)\n",
        "  labels=pd.get_dummies(labels)\n",
        "  labels = np.array(labels)\n",
        "  print(\"[INFO] done\")\n",
        "  return data,labels"
      ],
      "execution_count": 0,
      "outputs": []
    },
    {
      "cell_type": "code",
      "metadata": {
        "id": "UvOXlOJbryWs",
        "colab_type": "code",
        "outputId": "07ea7578-418b-443b-b6ac-eae66645b8f1",
        "colab": {
          "base_uri": "https://localhost:8080/",
          "height": 85
        }
      },
      "source": [
        "x_train, y_train = load_images('/content/OCR-Selected-2/Dataset/Training')\n",
        "x_test, y_test = load_images('/content/OCR-Selected-2/Dataset/Test')"
      ],
      "execution_count": 0,
      "outputs": [
        {
          "output_type": "stream",
          "text": [
            "[INFO] loading images...\n",
            "[INFO] done\n",
            "[INFO] loading images...\n",
            "[INFO] done\n"
          ],
          "name": "stdout"
        }
      ]
    },
    {
      "cell_type": "code",
      "metadata": {
        "id": "zGxo15ULryRe",
        "colab_type": "code",
        "outputId": "de8b188e-1a77-4f12-e9bc-1021df77002f",
        "colab": {
          "base_uri": "https://localhost:8080/",
          "height": 476
        }
      },
      "source": [
        "from keras.models import Sequential\n",
        "from keras.layers import Conv2D,MaxPooling2D\n",
        "from keras.layers import Activation, Dense, Flatten, Dropout\n",
        "from keras.optimizers import RMSprop, Adam\n",
        "\n",
        "model = Sequential()\n",
        "\n",
        "model.add(Conv2D(32, kernel_size=(5, 5), strides=(1, 1), activation=\"relu\", input_shape=(28,28,1)))\n",
        "model.add(MaxPooling2D(pool_size=(2, 2), strides=(2, 2)))\n",
        "model.add(Dropout(0.5))\n",
        "model.add(Conv2D(64, (5, 5), activation=\"relu\"))\n",
        "model.add(MaxPooling2D(pool_size=(2, 2)))\n",
        "\n",
        "model.add(Flatten())\n",
        "model.add(Dense(128, activation=\"relu\"))\n",
        "model.add(Dropout(0.2))\n",
        "model.add(Dense(26, activation=\"softmax\"))\n",
        "model.summary()"
      ],
      "execution_count": 0,
      "outputs": [
        {
          "output_type": "stream",
          "text": [
            "Using TensorFlow backend.\n"
          ],
          "name": "stderr"
        },
        {
          "output_type": "stream",
          "text": [
            "Model: \"sequential_1\"\n",
            "_________________________________________________________________\n",
            "Layer (type)                 Output Shape              Param #   \n",
            "=================================================================\n",
            "conv2d_1 (Conv2D)            (None, 24, 24, 32)        832       \n",
            "_________________________________________________________________\n",
            "max_pooling2d_1 (MaxPooling2 (None, 12, 12, 32)        0         \n",
            "_________________________________________________________________\n",
            "dropout_1 (Dropout)          (None, 12, 12, 32)        0         \n",
            "_________________________________________________________________\n",
            "conv2d_2 (Conv2D)            (None, 8, 8, 64)          51264     \n",
            "_________________________________________________________________\n",
            "max_pooling2d_2 (MaxPooling2 (None, 4, 4, 64)          0         \n",
            "_________________________________________________________________\n",
            "flatten_1 (Flatten)          (None, 1024)              0         \n",
            "_________________________________________________________________\n",
            "dense_1 (Dense)              (None, 128)               131200    \n",
            "_________________________________________________________________\n",
            "dropout_2 (Dropout)          (None, 128)               0         \n",
            "_________________________________________________________________\n",
            "dense_2 (Dense)              (None, 26)                3354      \n",
            "=================================================================\n",
            "Total params: 186,650\n",
            "Trainable params: 186,650\n",
            "Non-trainable params: 0\n",
            "_________________________________________________________________\n"
          ],
          "name": "stdout"
        }
      ]
    },
    {
      "cell_type": "code",
      "metadata": {
        "id": "rZHWUTkqaoCl",
        "colab_type": "code",
        "outputId": "8544108d-6d69-466f-ba9e-be17e12db9b4",
        "colab": {
          "base_uri": "https://localhost:8080/",
          "height": 323
        }
      },
      "source": [
        "model.compile(loss=\"categorical_crossentropy\", optimizer=\"adam\", metrics=[\"accuracy\"])\n",
        "model.fit(x_train, y_train, batch_size=128, epochs=8, verbose=2, validation_split=0.1)"
      ],
      "execution_count": 0,
      "outputs": [
        {
          "output_type": "stream",
          "text": [
            "Train on 79919 samples, validate on 8880 samples\n",
            "Epoch 1/8\n",
            " - 12s - loss: 0.7823 - accuracy: 0.7667 - val_loss: 11.0791 - val_accuracy: 0.1279\n",
            "Epoch 2/8\n",
            " - 6s - loss: 0.3216 - accuracy: 0.9042 - val_loss: 11.4964 - val_accuracy: 0.1432\n",
            "Epoch 3/8\n",
            " - 6s - loss: 0.2519 - accuracy: 0.9255 - val_loss: 12.4200 - val_accuracy: 0.1392\n",
            "Epoch 4/8\n",
            " - 6s - loss: 0.2156 - accuracy: 0.9360 - val_loss: 14.0605 - val_accuracy: 0.1555\n",
            "Epoch 5/8\n",
            " - 6s - loss: 0.1930 - accuracy: 0.9420 - val_loss: 15.4088 - val_accuracy: 0.1568\n",
            "Epoch 6/8\n",
            " - 6s - loss: 0.1755 - accuracy: 0.9485 - val_loss: 14.7107 - val_accuracy: 0.1607\n",
            "Epoch 7/8\n",
            " - 6s - loss: 0.1615 - accuracy: 0.9518 - val_loss: 17.1745 - val_accuracy: 0.1644\n",
            "Epoch 8/8\n",
            " - 6s - loss: 0.1494 - accuracy: 0.9547 - val_loss: 15.5428 - val_accuracy: 0.1553\n"
          ],
          "name": "stdout"
        },
        {
          "output_type": "execute_result",
          "data": {
            "text/plain": [
              "<keras.callbacks.callbacks.History at 0x7f89904fef60>"
            ]
          },
          "metadata": {
            "tags": []
          },
          "execution_count": 5
        }
      ]
    },
    {
      "cell_type": "code",
      "metadata": {
        "id": "QR7D3LmqzT-4",
        "colab_type": "code",
        "colab": {}
      },
      "source": [
        "y_test = np.argmax(y_test, 1)\n",
        "\n",
        "predictions = model.predict(x_test)\n",
        "predictions = np.argmax(predictions , 1)"
      ],
      "execution_count": 0,
      "outputs": []
    },
    {
      "cell_type": "code",
      "metadata": {
        "id": "sACJpvM3z_lC",
        "colab_type": "code",
        "outputId": "56343b29-7e3d-4e43-9163-f7d4a74fa384",
        "colab": {
          "base_uri": "https://localhost:8080/"
        }
      },
      "source": [
        "from sklearn.metrics import confusion_matrix \n",
        "from sklearn.metrics import accuracy_score\n",
        "  \n",
        "cm = confusion_matrix(y_test, predictions) \n",
        "\n",
        "print (f'Confusion Matrix : \\n\\n{cm}\\n\\n')\n",
        "print (f'Accuracy Score : {accuracy_score(y_test, predictions)}')"
      ],
      "execution_count": 0,
      "outputs": [
        {
          "output_type": "stream",
          "text": [
            "Confusion Matrix : \n",
            "\n",
            "[[739   0   0   1   1   4  13   3  15   0   0   0   1   2   0   0   3   0\n",
            "    4   4   6   3   0   0   0   0]\n",
            " [  0 765   0   4   0   1   0   0   0   1   3   1  11   2   1   0   1   1\n",
            "    2   0   3   0   4   0   0   0]\n",
            " [  0   0 772   5   1   3   0   0   0   2   0   2   1   2   1   0   6   0\n",
            "    1   0   1   3   0   0   0   0]\n",
            " [  0   2   0 785   0   0   2   0   1   3   0   0   0   0   0   0   0   2\n",
            "    0   5   0   0   0   0   0   0]\n",
            " [  0   0   1   0 788  10   0   0   0   0   0   0   0   1   0   0   0   0\n",
            "    0   0   0   0   0   0   0   0]\n",
            " [  2   1   2   1   6 777   0   0   0   5   0   0   0   2   2   1   0   0\n",
            "    0   0   1   0   0   0   0   0]\n",
            " [  1   0   0   0   0   0 789   1   2   0   0   0   0   1   1   0   0   0\n",
            "    0   2   3   0   0   0   0   0]\n",
            " [  0   0   1   1   0   2   2 782   5   1   0   0   0   0   0   0   0   0\n",
            "    0   0   4   1   1   0   0   0]\n",
            " [ 23   0   0   3   0   1  14   1 733   1   0   0   0   1   0   0   0   3\n",
            "    2   0   2   2   2  12   0   0]\n",
            " [  5   0   3   3   1   2   0   1   0 749   0   0  13   0   6   0   2   8\n",
            "    2   1   0   2   2   0   0   0]\n",
            " [  0   5   0   0   0   0   1   0   0   0 392   1   0   0   0   0   0   0\n",
            "    0   0   0   0   0   1   0   0]\n",
            " [  2   0   2   3   0   1   0   1   2   2   0 779   0   1   0   0   0   0\n",
            "    2   0   2   1   0   2   0   0]\n",
            " [  0   0   0   0   0   0   0   0   0   0   0   0 497   0   0   0   0   0\n",
            "    0   0   0   0   3   0   0   0]\n",
            " [  0   0   1   0   0   0   1   0   0   0   0   0   0 482  16   0   0   0\n",
            "    0   0   0   0   0   0   0   0]\n",
            " [  0   0   0   0   0   0   0   0   0   2   0   0   0  16 477   0   0   5\n",
            "    0   0   0   0   0   0   0   0]\n",
            " [  0   0   0   0   0   8   0   0   0   0   0   0   0   2   1 489   0   0\n",
            "    0   0   0   0   0   0   0   0]\n",
            " [  0   0   1   0   0   1   0   0   0   0   0   0   1   0   1   0 494   1\n",
            "    0   0   1   0   0   0   0   0]\n",
            " [  0   1   0   1   0   0   0   0   0   1   0   0   1   5   6   0   0 484\n",
            "    1   0   0   0   0   0   0   0]\n",
            " [  0   1   0   0   0   0   0   0   1   0   0   0   1   0   0   0   1   0\n",
            "  496   0   0   0   0   0   0   0]\n",
            " [  0   0   1   0   0   0   0   0   0   2   1   0   0   2   0   0   0   0\n",
            "    1 783   1   9   0   0   0   0]\n",
            " [  2   3   0   0   0   1  43   4   3   0   0   1   1   0   0   0   0   0\n",
            "    0   0 741   0   0   1   0   0]\n",
            " [  1   0   0   3   0   0   2   1   1   0   2   2   1   0   0   0   0   0\n",
            "    1  12   0 771   2   1   0   0]\n",
            " [  0   1   1   1   0   0   0   9   1   2   2   0  19   0   0   0   0   0\n",
            "    0   0   1   1 761   1   0   0]\n",
            " [ 22   4   3   0   0   1   3   0 175   1  11  12   0   1   0   0   0   6\n",
            "    0  13   2   0   3 543   0   0]\n",
            " [101   1 275  32  79 106   0   0   1   0   0 158   7  19   0   8   4   9\n",
            "    0   0   0   0   0   0   0   0]\n",
            " [  0 108   0 637   0   0   2   0   0   5   1   0   6   0   2   0   3   1\n",
            "   29   2   1   1   1   1   0   0]]\n",
            "\n",
            "\n",
            "Accuracy Score : 0.8671512104486584\n"
          ],
          "name": "stdout"
        }
      ]
    }
  ]
}