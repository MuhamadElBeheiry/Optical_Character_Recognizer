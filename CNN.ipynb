{
  "nbformat": 4,
  "nbformat_minor": 0,
  "metadata": {
    "colab": {
      "name": "CNN.ipynb",
      "provenance": [],
      "collapsed_sections": [],
      "mount_file_id": "1PMrb-M2fqlJdJNLiSjM8AsKczc9HO-iC",
      "authorship_tag": "ABX9TyMSqVQIvuFyD/ydD7LHgyCt",
      "include_colab_link": true
    },
    "kernelspec": {
      "name": "python3",
      "display_name": "Python 3"
    },
    "accelerator": "GPU"
  },
  "cells": [
    {
      "cell_type": "markdown",
      "metadata": {
        "id": "view-in-github",
        "colab_type": "text"
      },
      "source": [
        "<a href=\"https://colab.research.google.com/github/mohamedahmedsaadahmed77/Research-Project-Selected-2/blob/master/CNN.ipynb\" target=\"_parent\"><img src=\"https://colab.research.google.com/assets/colab-badge.svg\" alt=\"Open In Colab\"/></a>"
      ]
    },
    {
      "cell_type": "code",
      "metadata": {
        "id": "xA8krdGnzLJ6",
        "colab_type": "code",
        "colab": {}
      },
      "source": [
        "!git clone https://github.com/mohamedahmedsaadahmed77/OCR-Selected-2.git"
      ],
      "execution_count": 0,
      "outputs": []
    },
    {
      "cell_type": "code",
      "metadata": {
        "id": "otGJkdOXnN8y",
        "colab_type": "code",
        "colab": {}
      },
      "source": [
        "import numpy as np\n",
        "import pandas as pd\n",
        "import os\n",
        "from imutils import paths\n",
        "import cv2\n",
        "\n",
        "def load_images(path):\n",
        "  print(\"[INFO] loading images...\")\n",
        "  imagePaths = list(paths.list_images(path))\n",
        "  imagePaths.sort()\n",
        "  data = []\n",
        "  labels = []\n",
        "  for imagePath in imagePaths:\n",
        "    label = int(imagePath.split(os.path.sep)[-2])\n",
        "    image = cv2.imread(imagePath, 0)\n",
        "    image = np.reshape(image, (28, 28, 1))/255.0\n",
        "    data.append(image)\n",
        "    labels.append(label)\n",
        "  data = np.array(data)\n",
        "  labels = np.array(labels)\n",
        "  print(\"[INFO] done\")\n",
        "  return data,labels"
      ],
      "execution_count": 0,
      "outputs": []
    },
    {
      "cell_type": "code",
      "metadata": {
        "id": "UvOXlOJbryWs",
        "colab_type": "code",
        "colab": {}
      },
      "source": [
        "from sklearn.model_selection import train_test_split\n",
        "\n",
        "x_train, y_train = load_images('/content/OCR-Selected-2/Dataset/Training')\n",
        "\n",
        "y_train = pd.get_dummies(y_train)\n",
        "x_train,x_val,y_train,y_val=train_test_split(x_train, y_train,test_size=0.1, random_state=42)\n",
        "\n",
        "x_test, y_test = load_images('/content/OCR-Selected-2/Dataset/Test')"
      ],
      "execution_count": 0,
      "outputs": []
    },
    {
      "cell_type": "code",
      "metadata": {
        "id": "zGxo15ULryRe",
        "colab_type": "code",
        "colab": {}
      },
      "source": [
        "from keras.models import Sequential\n",
        "from keras.layers import Conv2D,MaxPooling2D,Activation,Dropout,Dense,Flatten\n",
        "\n",
        "model = Sequential()\n",
        "model.add(Conv2D(64, (3,3), activation='relu', input_shape=(28,28,1)))\n",
        "model.add(Conv2D(32, kernel_size=3, activation='relu'))\n",
        "model.add(Flatten())\n",
        "model.add(Dense(10, activation='softmax'))\n",
        "\n",
        "model.compile(optimizer='adam', loss='categorical_crossentropy', metrics=['accuracy'])\n",
        "\n",
        "model.fit(x_train, y_train, validation_data=(x_val, y_val), epochs=8, batch_size=256)"
      ],
      "execution_count": 0,
      "outputs": []
    },
    {
      "cell_type": "code",
      "metadata": {
        "id": "QR7D3LmqzT-4",
        "colab_type": "code",
        "colab": {}
      },
      "source": [
        "predictions = model.predict(x_test)\n",
        "predictions = np.argmax(predictions , 1)"
      ],
      "execution_count": 0,
      "outputs": []
    },
    {
      "cell_type": "code",
      "metadata": {
        "id": "sACJpvM3z_lC",
        "colab_type": "code",
        "colab": {}
      },
      "source": [
        "from sklearn.metrics import accuracy_score\n",
        "\n",
        "print ('Test Accuracy Score :',accuracy_score(y_test, predictions))"
      ],
      "execution_count": 0,
      "outputs": []
    }
  ]
}