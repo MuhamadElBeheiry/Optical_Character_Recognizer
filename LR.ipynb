{
  "nbformat": 4,
  "nbformat_minor": 0,
  "metadata": {
    "colab": {
      "name": "LR.ipynb",
      "provenance": [],
      "collapsed_sections": [],
      "authorship_tag": "ABX9TyOmD9ChfMIzSvUeJuhLS9cU",
      "include_colab_link": true
    },
    "kernelspec": {
      "name": "python3",
      "display_name": "Python 3"
    },
    "accelerator": "GPU"
  },
  "cells": [
    {
      "cell_type": "markdown",
      "metadata": {
        "id": "view-in-github",
        "colab_type": "text"
      },
      "source": [
        "<a href=\"https://colab.research.google.com/github/mohamedahmedsaadahmed77/Research-Project-Selected-2/blob/master/LR.ipynb\" target=\"_parent\"><img src=\"https://colab.research.google.com/assets/colab-badge.svg\" alt=\"Open In Colab\"/></a>"
      ]
    },
    {
      "cell_type": "code",
      "metadata": {
        "id": "Fam5ytVcjiLl",
        "colab_type": "code",
        "outputId": "dc801a1f-e734-4296-c970-957c26701870",
        "colab": {
          "base_uri": "https://localhost:8080/",
          "height": 51
        }
      },
      "source": [
        "%tensorflow_version 1.x\n",
        "import tensorflow as tf\n",
        "print(tf.__version__)"
      ],
      "execution_count": 0,
      "outputs": [
        {
          "output_type": "stream",
          "text": [
            "TensorFlow 1.x selected.\n",
            "1.15.2\n"
          ],
          "name": "stdout"
        }
      ]
    },
    {
      "cell_type": "code",
      "metadata": {
        "id": "ZsjEBty7h9pG",
        "colab_type": "code",
        "outputId": "e2bf8830-4fdd-4cc3-8526-7b9db9de5a46",
        "colab": {
          "base_uri": "https://localhost:8080/",
          "height": 153
        }
      },
      "source": [
        "!git clone https://github.com/mohamedahmedsaadahmed77/OCR-Selected-2.git"
      ],
      "execution_count": 0,
      "outputs": [
        {
          "output_type": "stream",
          "text": [
            "Cloning into 'OCR-Selected-2'...\n",
            "remote: Enumerating objects: 11, done.\u001b[K\n",
            "remote: Counting objects: 100% (11/11), done.\u001b[K\n",
            "remote: Compressing objects: 100% (11/11), done.\u001b[K\n",
            "remote: Total 183726 (delta 0), reused 9 (delta 0), pack-reused 183715\u001b[K\n",
            "Receiving objects: 100% (183726/183726), 64.07 MiB | 28.54 MiB/s, done.\n",
            "Resolving deltas: 100% (142652/142652), done.\n",
            "Checking out files: 100% (107101/107101), done.\n"
          ],
          "name": "stdout"
        }
      ]
    },
    {
      "cell_type": "code",
      "metadata": {
        "id": "en2JPYgZh9lt",
        "colab_type": "code",
        "colab": {}
      },
      "source": [
        "import numpy as np\n",
        "import os\n",
        "from imutils import paths\n",
        "import cv2\n",
        "import pandas as pd\n",
        "\n",
        "def load_images(path):\n",
        "  print(\"[INFO] loading images...\")\n",
        "  imagePaths = list(paths.list_images(path))\n",
        "  imagePaths.sort()\n",
        "  data = []\n",
        "  labels = []\n",
        "  for imagePath in imagePaths:\n",
        "    label = imagePath.split(os.path.sep)[-2]\n",
        "    image = cv2.imread(imagePath)\n",
        "    image = cv2.cvtColor(image, cv2.COLOR_BGR2GRAY)\n",
        "    image = np.reshape(image, (28*28))/255.0\n",
        "    data.append(image)\n",
        "    labels.append(label)\n",
        "  data = np.array(data)\n",
        "  labels = pd.get_dummies(labels)\n",
        "  labels = np.array(labels)\n",
        "  print(\"[INFO] done\")\n",
        "  return data,labels"
      ],
      "execution_count": 0,
      "outputs": []
    },
    {
      "cell_type": "code",
      "metadata": {
        "id": "CZDZv0I_h9h0",
        "colab_type": "code",
        "outputId": "b99a4ce4-f046-4279-e742-87b5080d2d00",
        "colab": {
          "base_uri": "https://localhost:8080/",
          "height": 85
        }
      },
      "source": [
        "x_train, y_train = load_images('/content/OCR-Selected-2/Dataset/Training')\n",
        "x_test, y_test = load_images('/content/OCR-Selected-2/Dataset/Test')"
      ],
      "execution_count": 0,
      "outputs": [
        {
          "output_type": "stream",
          "text": [
            "[INFO] loading images...\n",
            "[INFO] done\n",
            "[INFO] loading images...\n",
            "[INFO] done\n"
          ],
          "name": "stdout"
        }
      ]
    },
    {
      "cell_type": "code",
      "metadata": {
        "id": "XarFVDTfbjUf",
        "colab_type": "code",
        "outputId": "aa783076-7517-42ff-aef8-21f510f5cd9d",
        "colab": {
          "base_uri": "https://localhost:8080/",
          "height": 51
        }
      },
      "source": [
        "from sklearn.decomposition import PCA\n",
        "\n",
        "pca = PCA(.95)\n",
        "pca.fit(x_train)"
      ],
      "execution_count": 0,
      "outputs": [
        {
          "output_type": "execute_result",
          "data": {
            "text/plain": [
              "PCA(copy=True, iterated_power='auto', n_components=0.95, random_state=None,\n",
              "    svd_solver='auto', tol=0.0, whiten=False)"
            ]
          },
          "metadata": {
            "tags": []
          },
          "execution_count": 5
        }
      ]
    },
    {
      "cell_type": "code",
      "metadata": {
        "id": "dsDAMqBUcEas",
        "colab_type": "code",
        "outputId": "6175aebb-5170-4a96-f381-1db54ef5faf0",
        "colab": {
          "base_uri": "https://localhost:8080/",
          "height": 51
        }
      },
      "source": [
        "x_train = pca.transform(x_train)\n",
        "x_test = pca.transform(x_test)\n",
        "\n",
        "print(x_train.shape)\n",
        "print(x_test.shape)"
      ],
      "execution_count": 0,
      "outputs": [
        {
          "output_type": "stream",
          "text": [
            "(88799, 116)\n",
            "(18299, 116)\n"
          ],
          "name": "stdout"
        }
      ]
    },
    {
      "cell_type": "code",
      "metadata": {
        "id": "DzkBQD7bhqbK",
        "colab_type": "code",
        "colab": {}
      },
      "source": [
        "# Hyper parameters\n",
        "learning_rate = 0.0001\n",
        "epochs = 32\n",
        "batch_size = 16\n",
        "batches = int(x_train.shape[0] / batch_size)\n",
        "\n",
        "\n",
        "# I choose placeholder to make it recieve any number of records to make code flexable\n",
        "X = tf.placeholder(tf.float32, [None, 116])\n",
        "Y = tf.placeholder(tf.float32, [None, 26])\n",
        "\n",
        "# I choose variable cause it’s values will be changed to get more better values and i put random values for the first time\n",
        "W = tf.Variable(.1 * np.random.randn(116, 26).astype(np.float32))\n",
        "B = tf.Variable(.1 * np.random.randn(26).astype(np.float32))"
      ],
      "execution_count": 0,
      "outputs": []
    },
    {
      "cell_type": "code",
      "metadata": {
        "id": "KS_H36hKhxfF",
        "colab_type": "code",
        "colab": {}
      },
      "source": [
        "# Formula of logistic regression : X * W + B\n",
        "pred = tf.nn.softmax(tf.add(tf.matmul(X,W), B))\n",
        "\n",
        "# Cost function\n",
        "cost = tf.reduce_mean(-tf.reduce_sum(Y * tf.log(pred), axis=1))\n",
        "\n",
        "# Optimiser that will get better values for bais and weights\n",
        "optimizer = tf.train.GradientDescentOptimizer(learning_rate).minimize(cost)"
      ],
      "execution_count": 0,
      "outputs": []
    },
    {
      "cell_type": "code",
      "metadata": {
        "id": "birGFpOmhxdW",
        "colab_type": "code",
        "outputId": "a34fe446-aade-48b5-8a79-e2c9346d9255",
        "colab": {
          "base_uri": "https://localhost:8080/",
          "height": 578
        }
      },
      "source": [
        "# Session to determine the flow of computitional graph (TensorFlow)\n",
        "with tf.Session() as sesh:\n",
        "    # Set initial values of tensor variables (Mandatory)\n",
        "    sesh.run(tf.global_variables_initializer())\n",
        "    \n",
        "    for epoch in range(epochs):\n",
        "        for i in range(batches):\n",
        "            offset = i * epoch\n",
        "            x = x_train[offset: offset + batch_size]\n",
        "            y = y_train[offset: offset + batch_size]\n",
        "            sesh.run(optimizer, feed_dict={X: x, Y:y})\n",
        "            # Get cost function value (Optional)\n",
        "            costVal = sesh.run(cost, feed_dict={X:x, Y:y})\n",
        "        print(f'epoch: {epoch:2d} cost_val= {costVal:.4f}')\n",
        "    \n",
        "    # Calculate the accuracy\n",
        "    correct_pred = tf.equal(tf.argmax(pred, 1), tf.argmax(Y, 1))\n",
        "    accuracy = tf.reduce_mean(tf.cast(correct_pred, tf.float32))\n",
        "    acc = accuracy.eval({X: x_test, Y: y_test})\n",
        "    print(f'Accuracy: {acc * 100:.2f}%')"
      ],
      "execution_count": 0,
      "outputs": [
        {
          "output_type": "stream",
          "text": [
            "epoch:  0 cost_val= 0.4302\n",
            "epoch:  1 cost_val= 1.8001\n",
            "epoch:  2 cost_val= 3.4093\n",
            "epoch:  3 cost_val= 2.2630\n",
            "epoch:  4 cost_val= 2.4115\n",
            "epoch:  5 cost_val= 4.1587\n",
            "epoch:  6 cost_val= 4.4491\n",
            "epoch:  7 cost_val= 3.5939\n",
            "epoch:  8 cost_val= 4.0873\n",
            "epoch:  9 cost_val= 3.5260\n",
            "epoch: 10 cost_val= 3.6516\n",
            "epoch: 11 cost_val= 3.5959\n",
            "epoch: 12 cost_val= 3.7382\n",
            "epoch: 13 cost_val= 4.3422\n",
            "epoch: 14 cost_val= 4.2943\n",
            "epoch: 15 cost_val= 3.7203\n",
            "epoch: 16 cost_val= 3.8531\n",
            "epoch: 17 cost_val= nan\n",
            "epoch: 18 cost_val= nan\n",
            "epoch: 19 cost_val= nan\n",
            "epoch: 20 cost_val= nan\n",
            "epoch: 21 cost_val= nan\n",
            "epoch: 22 cost_val= nan\n",
            "epoch: 23 cost_val= nan\n",
            "epoch: 24 cost_val= nan\n",
            "epoch: 25 cost_val= nan\n",
            "epoch: 26 cost_val= nan\n",
            "epoch: 27 cost_val= nan\n",
            "epoch: 28 cost_val= nan\n",
            "epoch: 29 cost_val= nan\n",
            "epoch: 30 cost_val= nan\n",
            "epoch: 31 cost_val= nan\n",
            "Accuracy: 54.28%\n"
          ],
          "name": "stdout"
        }
      ]
    }
  ]
}