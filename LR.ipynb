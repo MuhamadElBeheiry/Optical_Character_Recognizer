{
  "nbformat": 4,
  "nbformat_minor": 0,
  "metadata": {
    "colab": {
      "name": "LR.ipynb",
      "provenance": [],
      "collapsed_sections": [],
      "authorship_tag": "ABX9TyPC0j4uxvIYjr3P/R5mgUHY",
      "include_colab_link": true
    },
    "kernelspec": {
      "name": "python3",
      "display_name": "Python 3"
    }
  },
  "cells": [
    {
      "cell_type": "markdown",
      "metadata": {
        "id": "view-in-github",
        "colab_type": "text"
      },
      "source": [
        "<a href=\"https://colab.research.google.com/github/mohamedahmedsaadahmed77/Research-Project-Selected-2/blob/master/LR.ipynb\" target=\"_parent\"><img src=\"https://colab.research.google.com/assets/colab-badge.svg\" alt=\"Open In Colab\"/></a>"
      ]
    },
    {
      "cell_type": "code",
      "metadata": {
        "id": "Fam5ytVcjiLl",
        "colab_type": "code",
        "colab": {}
      },
      "source": [
        "%tensorflow_version 1.x\n",
        "import tensorflow as tf\n",
        "print(tf.__version__)"
      ],
      "execution_count": 0,
      "outputs": []
    },
    {
      "cell_type": "code",
      "metadata": {
        "id": "ZsjEBty7h9pG",
        "colab_type": "code",
        "colab": {}
      },
      "source": [
        "!git clone https://github.com/mohamedahmedsaadahmed77/OCR-Selected-2.git"
      ],
      "execution_count": 0,
      "outputs": []
    },
    {
      "cell_type": "code",
      "metadata": {
        "id": "en2JPYgZh9lt",
        "colab_type": "code",
        "colab": {}
      },
      "source": [
        "import numpy as np\n",
        "import pandas as pd\n",
        "import os\n",
        "from imutils import paths\n",
        "import cv2\n",
        "\n",
        "def load_images(path):\n",
        "  print(\"[INFO] loading images...\")\n",
        "  imagePaths = list(paths.list_images(path))\n",
        "  imagePaths.sort()\n",
        "  data = []\n",
        "  labels = []\n",
        "  for imagePath in imagePaths:\n",
        "    label = int(imagePath.split(os.path.sep)[-2])\n",
        "    image = cv2.imread(imagePath, 0)\n",
        "    image = np.reshape(image, (28*28))/255.0\n",
        "    data.append(image)\n",
        "    labels.append(label)\n",
        "  data = np.array(data)\n",
        "  labels=pd.get_dummies(labels)\n",
        "  labels = np.array(labels)\n",
        "  print(\"[INFO] done\")\n",
        "  return data,labels"
      ],
      "execution_count": 0,
      "outputs": []
    },
    {
      "cell_type": "code",
      "metadata": {
        "id": "CZDZv0I_h9h0",
        "colab_type": "code",
        "colab": {}
      },
      "source": [
        "x_train, y_train = load_images('/content/OCR-Selected-2/Dataset/Training')\n",
        "x_test, y_test = load_images('/content/OCR-Selected-2/Dataset/Test')"
      ],
      "execution_count": 0,
      "outputs": []
    },
    {
      "cell_type": "code",
      "metadata": {
        "id": "DzkBQD7bhqbK",
        "colab_type": "code",
        "colab": {}
      },
      "source": [
        "# Hyper parameters\n",
        "learning_rate = 0.0001\n",
        "epochs = 32\n",
        "batch_size = 32\n",
        "batches = int(x_train.shape[0] / batch_size)\n",
        "\n",
        "\n",
        "# I choose placeholder to make it recieve any number of records to make code flexable\n",
        "X = tf.placeholder(tf.float32, [None, 784])\n",
        "Y = tf.placeholder(tf.float32, [None, 10])\n",
        "\n",
        "# I choose variable cause it’s values will be changed to get more better values and i put random values for the first time\n",
        "W = tf.Variable(.1 * np.random.randn(784, 10).astype(np.float32))\n",
        "B = tf.Variable(.1 * np.random.randn(10).astype(np.float32))"
      ],
      "execution_count": 0,
      "outputs": []
    },
    {
      "cell_type": "code",
      "metadata": {
        "id": "KS_H36hKhxfF",
        "colab_type": "code",
        "colab": {}
      },
      "source": [
        "# Formula of logistic regression : X * W + B\n",
        "pred = tf.nn.softmax(tf.add(tf.matmul(X,W), B))\n",
        "\n",
        "# Cost function\n",
        "cost = tf.reduce_mean(-tf.reduce_sum(Y * tf.log(pred), axis=1))\n",
        "\n",
        "# Optimiser that will get better values for bais and weights\n",
        "optimizer = tf.train.GradientDescentOptimizer(learning_rate).minimize(cost)"
      ],
      "execution_count": 0,
      "outputs": []
    },
    {
      "cell_type": "code",
      "metadata": {
        "id": "birGFpOmhxdW",
        "colab_type": "code",
        "colab": {}
      },
      "source": [
        "# Session to determine the flow of computitional graph (TensorFlow)\n",
        "with tf.Session() as sesh:\n",
        "    # Set initial values of tensor variables (Mandatory)\n",
        "    sesh.run(tf.global_variables_initializer())\n",
        "    \n",
        "    for epoch in range(epochs):\n",
        "        for i in range(batches):\n",
        "            offset = i * epoch\n",
        "            x = x_train[offset: offset + batch_size]\n",
        "            y = y_train[offset: offset + batch_size]\n",
        "            sesh.run(optimizer, feed_dict={X: x, Y:y})\n",
        "            # Get cost function value (Optional)\n",
        "            costVal = sesh.run(cost, feed_dict={X:x, Y:y})\n",
        "        print(f'epoch: {epoch:2d} cost_val= {costVal:.4f}')\n",
        "    \n",
        "    # Calculate the accuracy\n",
        "    correct_pred = tf.equal(tf.argmax(pred, 1), tf.argmax(Y, 1))\n",
        "    accuracy = tf.reduce_mean(tf.cast(correct_pred, tf.float32))\n",
        "    acc = accuracy.eval({X: x_test, Y: y_test})\n",
        "    print(f'Accuracy: {acc * 100:.2f}%')"
      ],
      "execution_count": 0,
      "outputs": []
    }
  ]
}